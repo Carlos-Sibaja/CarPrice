{
 "cells": [
  {
   "cell_type": "code",
   "execution_count": null,
   "id": "93b9f58a-5d10-410b-b243-6a1ba5fd9b76",
   "metadata": {},
   "outputs": [],
   "source": [
    "#CarPrice Project\n",
    "1. Regression\n",
    "2. Classification with decision tree\n",
    "3. "
   ]
  },
  {
   "cell_type": "code",
   "execution_count": null,
   "id": "ebfb976c-f69d-4c9e-89b5-fef9f313a379",
   "metadata": {},
   "outputs": [],
   "source": []
  }
 ],
 "metadata": {
  "kernelspec": {
   "display_name": "Python 3 (ipykernel)",
   "language": "python",
   "name": "python3"
  },
  "language_info": {
   "codemirror_mode": {
    "name": "ipython",
    "version": 3
   },
   "file_extension": ".py",
   "mimetype": "text/x-python",
   "name": "python",
   "nbconvert_exporter": "python",
   "pygments_lexer": "ipython3",
   "version": "3.12.4"
  }
 },
 "nbformat": 4,
 "nbformat_minor": 5
}
