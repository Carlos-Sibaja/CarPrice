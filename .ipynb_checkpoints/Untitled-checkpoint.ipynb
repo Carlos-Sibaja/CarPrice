{
 "cells": [
  {
   "cell_type": "code",
   "execution_count": null,
   "id": "bd180c00-227d-4da5-90ba-e29079f5d147",
   "metadata": {},
   "outputs": [],
   "source": [
    "import pandas as pd\n",
    "\n",
    "# Load the dataset to understand its structure\n",
    "cars_data = pd.read_csv('cars_info.csv')\n",
    "\n",
    "# Display basic information about the dataset\n",
    "cars_data.info(), cars_data.head()"
   ]
  }
 ],
 "metadata": {
  "kernelspec": {
   "display_name": "Python 3 (ipykernel)",
   "language": "python",
   "name": "python3"
  },
  "language_info": {
   "codemirror_mode": {
    "name": "ipython",
    "version": 3
   },
   "file_extension": ".py",
   "mimetype": "text/x-python",
   "name": "python",
   "nbconvert_exporter": "python",
   "pygments_lexer": "ipython3",
   "version": "3.11.7"
  }
 },
 "nbformat": 4,
 "nbformat_minor": 5
}
